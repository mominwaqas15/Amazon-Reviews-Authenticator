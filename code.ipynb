{
 "cells": [
  {
   "cell_type": "code",
   "execution_count": 1,
   "metadata": {},
   "outputs": [],
   "source": [
    "import pandas as pd"
   ]
  },
  {
   "cell_type": "code",
   "execution_count": 2,
   "metadata": {},
   "outputs": [
    {
     "data": {
      "text/html": [
       "<div>\n",
       "<style scoped>\n",
       "    .dataframe tbody tr th:only-of-type {\n",
       "        vertical-align: middle;\n",
       "    }\n",
       "\n",
       "    .dataframe tbody tr th {\n",
       "        vertical-align: top;\n",
       "    }\n",
       "\n",
       "    .dataframe thead th {\n",
       "        text-align: right;\n",
       "    }\n",
       "</style>\n",
       "<table border=\"1\" class=\"dataframe\">\n",
       "  <thead>\n",
       "    <tr style=\"text-align: right;\">\n",
       "      <th></th>\n",
       "      <th>reviewerID</th>\n",
       "      <th>asin</th>\n",
       "      <th>reviewerName</th>\n",
       "      <th>helpful</th>\n",
       "      <th>reviewText</th>\n",
       "      <th>overall</th>\n",
       "      <th>summary</th>\n",
       "      <th>unixReviewTime</th>\n",
       "      <th>reviewTime</th>\n",
       "    </tr>\n",
       "  </thead>\n",
       "  <tbody>\n",
       "    <tr>\n",
       "      <th>0</th>\n",
       "      <td>AO94DHGC771SJ</td>\n",
       "      <td>0528881469</td>\n",
       "      <td>amazdnu</td>\n",
       "      <td>[0, 0]</td>\n",
       "      <td>We got this GPS for my husband who is an (OTR)...</td>\n",
       "      <td>5</td>\n",
       "      <td>Gotta have GPS!</td>\n",
       "      <td>1370131200</td>\n",
       "      <td>06 2, 2013</td>\n",
       "    </tr>\n",
       "    <tr>\n",
       "      <th>1</th>\n",
       "      <td>AMO214LNFCEI4</td>\n",
       "      <td>0528881469</td>\n",
       "      <td>Amazon Customer</td>\n",
       "      <td>[12, 15]</td>\n",
       "      <td>I'm a professional OTR truck driver, and I bou...</td>\n",
       "      <td>1</td>\n",
       "      <td>Very Disappointed</td>\n",
       "      <td>1290643200</td>\n",
       "      <td>11 25, 2010</td>\n",
       "    </tr>\n",
       "    <tr>\n",
       "      <th>2</th>\n",
       "      <td>A3N7T0DY83Y4IG</td>\n",
       "      <td>0528881469</td>\n",
       "      <td>C. A. Freeman</td>\n",
       "      <td>[43, 45]</td>\n",
       "      <td>Well, what can I say.  I've had this unit in m...</td>\n",
       "      <td>3</td>\n",
       "      <td>1st impression</td>\n",
       "      <td>1283990400</td>\n",
       "      <td>09 9, 2010</td>\n",
       "    </tr>\n",
       "    <tr>\n",
       "      <th>3</th>\n",
       "      <td>A1H8PY3QHMQQA0</td>\n",
       "      <td>0528881469</td>\n",
       "      <td>Dave M. Shaw \"mack dave\"</td>\n",
       "      <td>[9, 10]</td>\n",
       "      <td>Not going to write a long review, even thought...</td>\n",
       "      <td>2</td>\n",
       "      <td>Great grafics, POOR GPS</td>\n",
       "      <td>1290556800</td>\n",
       "      <td>11 24, 2010</td>\n",
       "    </tr>\n",
       "    <tr>\n",
       "      <th>4</th>\n",
       "      <td>A24EV6RXELQZ63</td>\n",
       "      <td>0528881469</td>\n",
       "      <td>Wayne Smith</td>\n",
       "      <td>[0, 0]</td>\n",
       "      <td>I've had mine for a year and here's what we go...</td>\n",
       "      <td>1</td>\n",
       "      <td>Major issues, only excuses for support</td>\n",
       "      <td>1317254400</td>\n",
       "      <td>09 29, 2011</td>\n",
       "    </tr>\n",
       "  </tbody>\n",
       "</table>\n",
       "</div>"
      ],
      "text/plain": [
       "       reviewerID        asin              reviewerName   helpful  \\\n",
       "0   AO94DHGC771SJ  0528881469                   amazdnu    [0, 0]   \n",
       "1   AMO214LNFCEI4  0528881469           Amazon Customer  [12, 15]   \n",
       "2  A3N7T0DY83Y4IG  0528881469             C. A. Freeman  [43, 45]   \n",
       "3  A1H8PY3QHMQQA0  0528881469  Dave M. Shaw \"mack dave\"   [9, 10]   \n",
       "4  A24EV6RXELQZ63  0528881469               Wayne Smith    [0, 0]   \n",
       "\n",
       "                                          reviewText  overall  \\\n",
       "0  We got this GPS for my husband who is an (OTR)...        5   \n",
       "1  I'm a professional OTR truck driver, and I bou...        1   \n",
       "2  Well, what can I say.  I've had this unit in m...        3   \n",
       "3  Not going to write a long review, even thought...        2   \n",
       "4  I've had mine for a year and here's what we go...        1   \n",
       "\n",
       "                                  summary  unixReviewTime   reviewTime  \n",
       "0                         Gotta have GPS!      1370131200   06 2, 2013  \n",
       "1                       Very Disappointed      1290643200  11 25, 2010  \n",
       "2                          1st impression      1283990400   09 9, 2010  \n",
       "3                 Great grafics, POOR GPS      1290556800  11 24, 2010  \n",
       "4  Major issues, only excuses for support      1317254400  09 29, 2011  "
      ]
     },
     "execution_count": 2,
     "metadata": {},
     "output_type": "execute_result"
    }
   ],
   "source": [
    "# Load the JSON file into a pandas DataFrame\n",
    "df = pd.read_json('C:\\\\Users\\\\momin\\\\Desktop\\\\Product_Review_Authentication\\\\Sentiment-Analysis-Product-Reviews\\\\Electronics_5.json', lines=True)\n",
    "\n",
    "df.head(5)"
   ]
  },
  {
   "cell_type": "code",
   "execution_count": 3,
   "metadata": {},
   "outputs": [
    {
     "data": {
      "text/plain": [
       "(1689188, 9)"
      ]
     },
     "execution_count": 3,
     "metadata": {},
     "output_type": "execute_result"
    }
   ],
   "source": [
    "df.shape"
   ]
  },
  {
   "cell_type": "code",
   "execution_count": 4,
   "metadata": {},
   "outputs": [],
   "source": [
    "df = df.sample(n=100000, random_state=42)"
   ]
  },
  {
   "cell_type": "code",
   "execution_count": 5,
   "metadata": {},
   "outputs": [
    {
     "data": {
      "text/plain": [
       "(100000, 9)"
      ]
     },
     "execution_count": 5,
     "metadata": {},
     "output_type": "execute_result"
    }
   ],
   "source": [
    "df.shape"
   ]
  },
  {
   "cell_type": "code",
   "execution_count": 6,
   "metadata": {},
   "outputs": [
    {
     "data": {
      "text/html": [
       "<div>\n",
       "<style scoped>\n",
       "    .dataframe tbody tr th:only-of-type {\n",
       "        vertical-align: middle;\n",
       "    }\n",
       "\n",
       "    .dataframe tbody tr th {\n",
       "        vertical-align: top;\n",
       "    }\n",
       "\n",
       "    .dataframe thead th {\n",
       "        text-align: right;\n",
       "    }\n",
       "</style>\n",
       "<table border=\"1\" class=\"dataframe\">\n",
       "  <thead>\n",
       "    <tr style=\"text-align: right;\">\n",
       "      <th></th>\n",
       "      <th>reviewerID</th>\n",
       "      <th>asin</th>\n",
       "      <th>reviewerName</th>\n",
       "      <th>helpful</th>\n",
       "      <th>reviewText</th>\n",
       "      <th>overall</th>\n",
       "      <th>summary</th>\n",
       "      <th>unixReviewTime</th>\n",
       "      <th>reviewTime</th>\n",
       "    </tr>\n",
       "  </thead>\n",
       "  <tbody>\n",
       "    <tr>\n",
       "      <th>981956</th>\n",
       "      <td>A3E3VF85DAW0FU</td>\n",
       "      <td>B004M8S12A</td>\n",
       "      <td>RedRover</td>\n",
       "      <td>[57, 67]</td>\n",
       "      <td>Well, after trying out some Box Towers....that...</td>\n",
       "      <td>5</td>\n",
       "      <td>Best in Class</td>\n",
       "      <td>1307404800</td>\n",
       "      <td>06 7, 2011</td>\n",
       "    </tr>\n",
       "    <tr>\n",
       "      <th>615465</th>\n",
       "      <td>A15X0XCY1EKJHL</td>\n",
       "      <td>B002KANXBG</td>\n",
       "      <td>James Stitley \"Jim Stitley\"</td>\n",
       "      <td>[16, 16]</td>\n",
       "      <td>I ordered one for my wife and one for me. Afte...</td>\n",
       "      <td>5</td>\n",
       "      <td>S 70 Review</td>\n",
       "      <td>1261612800</td>\n",
       "      <td>12 24, 2009</td>\n",
       "    </tr>\n",
       "    <tr>\n",
       "      <th>1060045</th>\n",
       "      <td>A393R1LK2A468F</td>\n",
       "      <td>B0050I1PHO</td>\n",
       "      <td>nelson 8A</td>\n",
       "      <td>[3, 7]</td>\n",
       "      <td>muy buen producto... a full en juegos fHD.... ...</td>\n",
       "      <td>5</td>\n",
       "      <td>nice</td>\n",
       "      <td>1314576000</td>\n",
       "      <td>08 29, 2011</td>\n",
       "    </tr>\n",
       "  </tbody>\n",
       "</table>\n",
       "</div>"
      ],
      "text/plain": [
       "             reviewerID        asin                 reviewerName   helpful  \\\n",
       "981956   A3E3VF85DAW0FU  B004M8S12A                     RedRover  [57, 67]   \n",
       "615465   A15X0XCY1EKJHL  B002KANXBG  James Stitley \"Jim Stitley\"  [16, 16]   \n",
       "1060045  A393R1LK2A468F  B0050I1PHO                    nelson 8A    [3, 7]   \n",
       "\n",
       "                                                reviewText  overall  \\\n",
       "981956   Well, after trying out some Box Towers....that...        5   \n",
       "615465   I ordered one for my wife and one for me. Afte...        5   \n",
       "1060045  muy buen producto... a full en juegos fHD.... ...        5   \n",
       "\n",
       "               summary  unixReviewTime   reviewTime  \n",
       "981956   Best in Class      1307404800   06 7, 2011  \n",
       "615465     S 70 Review      1261612800  12 24, 2009  \n",
       "1060045           nice      1314576000  08 29, 2011  "
      ]
     },
     "execution_count": 6,
     "metadata": {},
     "output_type": "execute_result"
    }
   ],
   "source": [
    "df.head(3)"
   ]
  },
  {
   "cell_type": "code",
   "execution_count": 7,
   "metadata": {},
   "outputs": [
    {
     "data": {
      "text/plain": [
       "Index(['reviewerID', 'asin', 'reviewerName', 'helpful', 'reviewText',\n",
       "       'overall', 'summary', 'unixReviewTime', 'reviewTime'],\n",
       "      dtype='object')"
      ]
     },
     "execution_count": 7,
     "metadata": {},
     "output_type": "execute_result"
    }
   ],
   "source": [
    "df.columns"
   ]
  },
  {
   "cell_type": "code",
   "execution_count": 8,
   "metadata": {},
   "outputs": [],
   "source": [
    "df.to_csv(\"Dataset.csv\")"
   ]
  },
  {
   "cell_type": "code",
   "execution_count": 9,
   "metadata": {},
   "outputs": [],
   "source": [
    "import pandas as pd\n",
    "\n",
    "df= pd.read_csv(\"Dataset.csv\")"
   ]
  },
  {
   "cell_type": "code",
   "execution_count": 10,
   "metadata": {},
   "outputs": [
    {
     "data": {
      "text/html": [
       "<div>\n",
       "<style scoped>\n",
       "    .dataframe tbody tr th:only-of-type {\n",
       "        vertical-align: middle;\n",
       "    }\n",
       "\n",
       "    .dataframe tbody tr th {\n",
       "        vertical-align: top;\n",
       "    }\n",
       "\n",
       "    .dataframe thead th {\n",
       "        text-align: right;\n",
       "    }\n",
       "</style>\n",
       "<table border=\"1\" class=\"dataframe\">\n",
       "  <thead>\n",
       "    <tr style=\"text-align: right;\">\n",
       "      <th></th>\n",
       "      <th>Unnamed: 0</th>\n",
       "      <th>reviewerID</th>\n",
       "      <th>asin</th>\n",
       "      <th>reviewerName</th>\n",
       "      <th>helpful</th>\n",
       "      <th>reviewText</th>\n",
       "      <th>overall</th>\n",
       "      <th>summary</th>\n",
       "      <th>unixReviewTime</th>\n",
       "      <th>reviewTime</th>\n",
       "    </tr>\n",
       "  </thead>\n",
       "  <tbody>\n",
       "    <tr>\n",
       "      <th>0</th>\n",
       "      <td>981956</td>\n",
       "      <td>A3E3VF85DAW0FU</td>\n",
       "      <td>B004M8S12A</td>\n",
       "      <td>RedRover</td>\n",
       "      <td>[57, 67]</td>\n",
       "      <td>Well, after trying out some Box Towers....that...</td>\n",
       "      <td>5</td>\n",
       "      <td>Best in Class</td>\n",
       "      <td>1307404800</td>\n",
       "      <td>06 7, 2011</td>\n",
       "    </tr>\n",
       "    <tr>\n",
       "      <th>1</th>\n",
       "      <td>615465</td>\n",
       "      <td>A15X0XCY1EKJHL</td>\n",
       "      <td>B002KANXBG</td>\n",
       "      <td>James Stitley \"Jim Stitley\"</td>\n",
       "      <td>[16, 16]</td>\n",
       "      <td>I ordered one for my wife and one for me. Afte...</td>\n",
       "      <td>5</td>\n",
       "      <td>S 70 Review</td>\n",
       "      <td>1261612800</td>\n",
       "      <td>12 24, 2009</td>\n",
       "    </tr>\n",
       "    <tr>\n",
       "      <th>2</th>\n",
       "      <td>1060045</td>\n",
       "      <td>A393R1LK2A468F</td>\n",
       "      <td>B0050I1PHO</td>\n",
       "      <td>nelson 8A</td>\n",
       "      <td>[3, 7]</td>\n",
       "      <td>muy buen producto... a full en juegos fHD.... ...</td>\n",
       "      <td>5</td>\n",
       "      <td>nice</td>\n",
       "      <td>1314576000</td>\n",
       "      <td>08 29, 2011</td>\n",
       "    </tr>\n",
       "  </tbody>\n",
       "</table>\n",
       "</div>"
      ],
      "text/plain": [
       "   Unnamed: 0      reviewerID        asin                 reviewerName  \\\n",
       "0      981956  A3E3VF85DAW0FU  B004M8S12A                     RedRover   \n",
       "1      615465  A15X0XCY1EKJHL  B002KANXBG  James Stitley \"Jim Stitley\"   \n",
       "2     1060045  A393R1LK2A468F  B0050I1PHO                    nelson 8A   \n",
       "\n",
       "    helpful                                         reviewText  overall  \\\n",
       "0  [57, 67]  Well, after trying out some Box Towers....that...        5   \n",
       "1  [16, 16]  I ordered one for my wife and one for me. Afte...        5   \n",
       "2    [3, 7]  muy buen producto... a full en juegos fHD.... ...        5   \n",
       "\n",
       "         summary  unixReviewTime   reviewTime  \n",
       "0  Best in Class      1307404800   06 7, 2011  \n",
       "1    S 70 Review      1261612800  12 24, 2009  \n",
       "2           nice      1314576000  08 29, 2011  "
      ]
     },
     "execution_count": 10,
     "metadata": {},
     "output_type": "execute_result"
    }
   ],
   "source": [
    "df.head(3)"
   ]
  },
  {
   "cell_type": "markdown",
   "metadata": {},
   "source": [
    "# Assigning labels to each sample"
   ]
  },
  {
   "cell_type": "code",
   "execution_count": 11,
   "metadata": {},
   "outputs": [],
   "source": [
    "import pandas as pd\n",
    "import joblib\n",
    "import string\n",
    "from nltk.corpus import stopwords\n",
    "from nltk.tokenize import word_tokenize\n",
    "from nltk.stem import PorterStemmer\n",
    "\n",
    "# Load the saved Naive Bayes model and CountVectorizer\n",
    "naive_bayes_model = joblib.load('naive_bayes_model.pkl')\n",
    "count_vectorizer = joblib.load('count_vectorizer.pkl')\n",
    "\n",
    "df['overall'].fillna('', inplace=True)\n",
    "df['reviewText'].fillna('', inplace=True)\n",
    "\n",
    "# Preprocess text data\n",
    "def preprocess_text(text):\n",
    "    # Tokenization\n",
    "    tokens = word_tokenize(text)\n",
    "    # Convert to lowercase\n",
    "    tokens = [word.lower() for word in tokens]\n",
    "    # Remove punctuation\n",
    "    tokens = [word for word in tokens if word not in string.punctuation]\n",
    "    # Remove stopwords\n",
    "    stop_words = set(stopwords.words('english'))\n",
    "    tokens = [word for word in tokens if word not in stop_words]\n",
    "    # Stemming\n",
    "    stemmer = PorterStemmer()\n",
    "    tokens = [stemmer.stem(word) for word in tokens]\n",
    "    # Join tokens back into text\n",
    "    preprocessed_text = ' '.join(tokens)\n",
    "    return preprocessed_text\n",
    "\n",
    "# Combine features\n",
    "df['features'] = df['overall'].astype(str) + ' ' + df['reviewText']\n",
    "\n",
    "# Preprocess the combined features\n",
    "df['preprocessed_features'] = df['features'].apply(preprocess_text)\n",
    "\n",
    "# Vectorize the text data\n",
    "X_vectorized = count_vectorizer.transform(df['preprocessed_features'])\n",
    "\n",
    "# Predict labels for the new dataset\n",
    "predicted_labels = naive_bayes_model.predict(X_vectorized)\n",
    "\n",
    "# Assign the predicted labels to the new dataset\n",
    "df['ReviewType'] = predicted_labels"
   ]
  },
  {
   "cell_type": "code",
   "execution_count": 12,
   "metadata": {},
   "outputs": [
    {
     "data": {
      "text/html": [
       "<div>\n",
       "<style scoped>\n",
       "    .dataframe tbody tr th:only-of-type {\n",
       "        vertical-align: middle;\n",
       "    }\n",
       "\n",
       "    .dataframe tbody tr th {\n",
       "        vertical-align: top;\n",
       "    }\n",
       "\n",
       "    .dataframe thead th {\n",
       "        text-align: right;\n",
       "    }\n",
       "</style>\n",
       "<table border=\"1\" class=\"dataframe\">\n",
       "  <thead>\n",
       "    <tr style=\"text-align: right;\">\n",
       "      <th></th>\n",
       "      <th>Unnamed: 0</th>\n",
       "      <th>reviewerID</th>\n",
       "      <th>asin</th>\n",
       "      <th>reviewerName</th>\n",
       "      <th>helpful</th>\n",
       "      <th>reviewText</th>\n",
       "      <th>overall</th>\n",
       "      <th>summary</th>\n",
       "      <th>unixReviewTime</th>\n",
       "      <th>reviewTime</th>\n",
       "      <th>features</th>\n",
       "      <th>preprocessed_features</th>\n",
       "      <th>ReviewType</th>\n",
       "    </tr>\n",
       "  </thead>\n",
       "  <tbody>\n",
       "    <tr>\n",
       "      <th>0</th>\n",
       "      <td>981956</td>\n",
       "      <td>A3E3VF85DAW0FU</td>\n",
       "      <td>B004M8S12A</td>\n",
       "      <td>RedRover</td>\n",
       "      <td>[57, 67]</td>\n",
       "      <td>Well, after trying out some Box Towers....that...</td>\n",
       "      <td>5</td>\n",
       "      <td>Best in Class</td>\n",
       "      <td>1307404800</td>\n",
       "      <td>06 7, 2011</td>\n",
       "      <td>5 Well, after trying out some Box Towers....th...</td>\n",
       "      <td>5 well tri box tower .... sound like music box...</td>\n",
       "      <td>OR</td>\n",
       "    </tr>\n",
       "    <tr>\n",
       "      <th>1</th>\n",
       "      <td>615465</td>\n",
       "      <td>A15X0XCY1EKJHL</td>\n",
       "      <td>B002KANXBG</td>\n",
       "      <td>James Stitley \"Jim Stitley\"</td>\n",
       "      <td>[16, 16]</td>\n",
       "      <td>I ordered one for my wife and one for me. Afte...</td>\n",
       "      <td>5</td>\n",
       "      <td>S 70 Review</td>\n",
       "      <td>1261612800</td>\n",
       "      <td>12 24, 2009</td>\n",
       "      <td>5 I ordered one for my wife and one for me. Af...</td>\n",
       "      <td>5 order one wife one read neg review pictur qu...</td>\n",
       "      <td>OR</td>\n",
       "    </tr>\n",
       "    <tr>\n",
       "      <th>2</th>\n",
       "      <td>1060045</td>\n",
       "      <td>A393R1LK2A468F</td>\n",
       "      <td>B0050I1PHO</td>\n",
       "      <td>nelson 8A</td>\n",
       "      <td>[3, 7]</td>\n",
       "      <td>muy buen producto... a full en juegos fHD.... ...</td>\n",
       "      <td>5</td>\n",
       "      <td>nice</td>\n",
       "      <td>1314576000</td>\n",
       "      <td>08 29, 2011</td>\n",
       "      <td>5 muy buen producto... a full en juegos fHD......</td>\n",
       "      <td>5 muy buen producto ... full en juego fhd .......</td>\n",
       "      <td>CG</td>\n",
       "    </tr>\n",
       "  </tbody>\n",
       "</table>\n",
       "</div>"
      ],
      "text/plain": [
       "   Unnamed: 0      reviewerID        asin                 reviewerName  \\\n",
       "0      981956  A3E3VF85DAW0FU  B004M8S12A                     RedRover   \n",
       "1      615465  A15X0XCY1EKJHL  B002KANXBG  James Stitley \"Jim Stitley\"   \n",
       "2     1060045  A393R1LK2A468F  B0050I1PHO                    nelson 8A   \n",
       "\n",
       "    helpful                                         reviewText  overall  \\\n",
       "0  [57, 67]  Well, after trying out some Box Towers....that...        5   \n",
       "1  [16, 16]  I ordered one for my wife and one for me. Afte...        5   \n",
       "2    [3, 7]  muy buen producto... a full en juegos fHD.... ...        5   \n",
       "\n",
       "         summary  unixReviewTime   reviewTime  \\\n",
       "0  Best in Class      1307404800   06 7, 2011   \n",
       "1    S 70 Review      1261612800  12 24, 2009   \n",
       "2           nice      1314576000  08 29, 2011   \n",
       "\n",
       "                                            features  \\\n",
       "0  5 Well, after trying out some Box Towers....th...   \n",
       "1  5 I ordered one for my wife and one for me. Af...   \n",
       "2  5 muy buen producto... a full en juegos fHD......   \n",
       "\n",
       "                               preprocessed_features ReviewType  \n",
       "0  5 well tri box tower .... sound like music box...         OR  \n",
       "1  5 order one wife one read neg review pictur qu...         OR  \n",
       "2  5 muy buen producto ... full en juego fhd .......         CG  "
      ]
     },
     "execution_count": 12,
     "metadata": {},
     "output_type": "execute_result"
    }
   ],
   "source": [
    "df.head(3)"
   ]
  },
  {
   "cell_type": "code",
   "execution_count": 13,
   "metadata": {},
   "outputs": [
    {
     "data": {
      "image/png": "[encoded data removed]",
      "text/plain": [
       "<Figure size 640x480 with 1 Axes>"
      ]
     },
     "metadata": {},
     "output_type": "display_data"
    }
   ],
   "source": [
    "import seaborn as sns\n",
    "import matplotlib.pyplot as plt\n",
    "\n",
    "# Create a countplot to visualize the distribution of samples in each category\n",
    "sns.countplot(x='ReviewType', data=df)\n",
    "\n",
    "# Add labels and title\n",
    "plt.xlabel('Label')\n",
    "plt.ylabel('Count')\n",
    "plt.title('Product Reviews (Authentic Vs Fake)')\n",
    "\n",
    "plt.show()"
   ]
  },
  {
   "cell_type": "markdown",
   "metadata": {},
   "source": [
    "### class counts"
   ]
  },
  {
   "cell_type": "code",
   "execution_count": 14,
   "metadata": {},
   "outputs": [
    {
     "name": "stdout",
     "output_type": "stream",
     "text": [
      "OR    82915\n",
      "CG    17085\n",
      "Name: ReviewType, dtype: int64\n"
     ]
    }
   ],
   "source": [
    "print(df['ReviewType'].value_counts())"
   ]
  },
  {
   "cell_type": "code",
   "execution_count": 15,
   "metadata": {},
   "outputs": [
    {
     "data": {
      "text/plain": [
       "Index(['Unnamed: 0', 'reviewerID', 'asin', 'reviewerName', 'helpful',\n",
       "       'reviewText', 'overall', 'summary', 'unixReviewTime', 'reviewTime',\n",
       "       'features', 'preprocessed_features', 'ReviewType'],\n",
       "      dtype='object')"
      ]
     },
     "execution_count": 15,
     "metadata": {},
     "output_type": "execute_result"
    }
   ],
   "source": [
    "df.columns"
   ]
  },
  {
   "cell_type": "markdown",
   "metadata": {},
   "source": [
    "## Saving Labelled Data"
   ]
  },
  {
   "cell_type": "code",
   "execution_count": 16,
   "metadata": {},
   "outputs": [],
   "source": [
    "df.to_csv(\"Dataset_Labelled.csv\")"
   ]
  },
  {
   "cell_type": "markdown",
   "metadata": {},
   "source": [
    "## Final model to classify product review as Authentic or Fake"
   ]
  },
  {
   "cell_type": "code",
   "execution_count": 17,
   "metadata": {},
   "outputs": [],
   "source": [
    "def preprocess_text(text):\n",
    "    # Tokenization\n",
    "    tokens = word_tokenize(text)\n",
    "    # Convert to lowercase\n",
    "    tokens = [word.lower() for word in tokens]\n",
    "    # Remove punctuation\n",
    "    tokens = [word for word in tokens if word not in string.punctuation]\n",
    "    # Remove stopwords\n",
    "    stop_words = set(stopwords.words('english'))\n",
    "    tokens = [word for word in tokens if word not in stop_words]\n",
    "    # Stemming\n",
    "    stemmer = PorterStemmer()\n",
    "    tokens = [stemmer.stem(word) for word in tokens]\n",
    "    # Join tokens back into text\n",
    "    preprocessed_text = ' '.join(tokens)\n",
    "    return preprocessed_text"
   ]
  },
  {
   "cell_type": "markdown",
   "metadata": {},
   "source": [
    "# Naive Bayes Model for Original Data"
   ]
  },
  {
   "cell_type": "code",
   "execution_count": 18,
   "metadata": {},
   "outputs": [
    {
     "name": "stdout",
     "output_type": "stream",
     "text": [
      "Accuracy: 0.8876980902072328\n",
      "Classification Report:\n",
      "               precision    recall  f1-score   support\n",
      "\n",
      "          CG       0.69      0.62      0.66      3374\n",
      "          OR       0.92      0.94      0.93     16314\n",
      "\n",
      "    accuracy                           0.89     19688\n",
      "   macro avg       0.81      0.78      0.79     19688\n",
      "weighted avg       0.88      0.89      0.89     19688\n",
      "\n"
     ]
    }
   ],
   "source": [
    "import pandas as pd\n",
    "import numpy as np\n",
    "from sklearn.model_selection import train_test_split\n",
    "from sklearn.feature_extraction.text import CountVectorizer\n",
    "from sklearn.naive_bayes import MultinomialNB\n",
    "from sklearn.metrics import accuracy_score, classification_report\n",
    "import string\n",
    "from nltk.corpus import stopwords\n",
    "from nltk.tokenize import word_tokenize\n",
    "from nltk.stem import PorterStemmer\n",
    "\n",
    "# Load the original dataset with labels\n",
    "original_data = pd.read_csv(\"Dataset_Labelled.csv\")\n",
    "\n",
    "# Drop rows with missing or NaN values\n",
    "original_data.dropna(inplace=True)\n",
    "\n",
    "# Convert \"helpful\" column to string type\n",
    "# original_data['helpful'] = original_data['helpful'].astype(str)\n",
    "\n",
    "# Convert \"overall\" column to string type\n",
    "original_data['overall'] = original_data['overall'].astype(str)\n",
    "\n",
    "# Convert \"summary\" column to string type\n",
    "original_data['summary'] = original_data['summary'].astype(str)\n",
    "\n",
    "# Preprocess text data\n",
    "\n",
    "\n",
    "# Preprocess the text columns\n",
    "original_data['reviewText'] = original_data['reviewText'].apply(preprocess_text)\n",
    "original_data['summary'] = original_data['summary'].apply(preprocess_text)\n",
    "\n",
    "# Combine features\n",
    "original_data['features'] = original_data['reviewText'] + ' ' + original_data['overall'] + ' ' + original_data['summary']\n",
    "\n",
    "# Split the dataset into features (X) and labels (y)\n",
    "X = original_data['features']\n",
    "y = original_data['ReviewType']\n",
    "\n",
    "# Split the dataset into training and testing sets\n",
    "X_train, X_test, y_train, y_test = train_test_split(X, y, test_size=0.2, random_state=42)\n",
    "\n",
    "# Vectorize the text data\n",
    "vectorizer = CountVectorizer()\n",
    "X_train_vectorized = vectorizer.fit_transform(X_train)\n",
    "X_test_vectorized = vectorizer.transform(X_test)\n",
    "\n",
    "# Train the Naive Bayes classifier\n",
    "naive_bayes_classifier = MultinomialNB()\n",
    "naive_bayes_classifier.fit(X_train_vectorized, y_train)\n",
    "\n",
    "# Evaluate the model\n",
    "y_pred = naive_bayes_classifier.predict(X_test_vectorized)\n",
    "accuracy = accuracy_score(y_test, y_pred)\n",
    "print(\"Accuracy:\", accuracy)\n",
    "print(\"Classification Report:\\n\", classification_report(y_test, y_pred))"
   ]
  },
  {
   "cell_type": "code",
   "execution_count": 19,
   "metadata": {},
   "outputs": [
    {
     "data": {
      "text/plain": [
       "<Figure size 1000x800 with 0 Axes>"
      ]
     },
     "metadata": {},
     "output_type": "display_data"
    },
    {
     "data": {
      "image/png": "[encoded data removed]",
      "text/plain": [
       "<Figure size 640x480 with 2 Axes>"
      ]
     },
     "metadata": {},
     "output_type": "display_data"
    },
    {
     "name": "stdout",
     "output_type": "stream",
     "text": [
      "Model Accuracy:  0.8876980902072328\n"
     ]
    }
   ],
   "source": [
    "from sklearn.metrics import confusion_matrix, ConfusionMatrixDisplay\n",
    "\n",
    "conf_mat = confusion_matrix(y_test, y_pred)\n",
    "\n",
    "# Plot the confusion matrix\n",
    "plt.figure(figsize=(10, 8))\n",
    "disp = ConfusionMatrixDisplay(confusion_matrix=conf_mat, display_labels=['Class 0', 'Class 1'])\n",
    "disp.plot(cmap='Blues', values_format='.0f')  # values_format='.0f' to display integer values\n",
    "plt.title(\"Confusion Matrix\")\n",
    "plt.xlabel(\"Predicted label\")\n",
    "plt.ylabel(\"True label\")\n",
    "plt.show()\n",
    "print(\"Model Accuracy: \", accuracy)"
   ]
  },
  {
   "cell_type": "code",
   "execution_count": 20,
   "metadata": {},
   "outputs": [
    {
     "data": {
      "text/plain": [
       "['Final_Count_Vectorizer.pkl']"
      ]
     },
     "execution_count": 20,
     "metadata": {},
     "output_type": "execute_result"
    }
   ],
   "source": [
    "import joblib\n",
    "\n",
    "# Save the trained model\n",
    "joblib.dump(naive_bayes_classifier, 'Final_Naive_Bayes.pkl')\n",
    "\n",
    "joblib.dump(vectorizer, 'Final_Count_Vectorizer.pkl')\n"
   ]
  },
  {
   "cell_type": "markdown",
   "metadata": {},
   "source": [
    "# testing"
   ]
  },
  {
   "cell_type": "code",
   "execution_count": 21,
   "metadata": {},
   "outputs": [
    {
     "data": {
      "text/html": [
       "<div>\n",
       "<style scoped>\n",
       "    .dataframe tbody tr th:only-of-type {\n",
       "        vertical-align: middle;\n",
       "    }\n",
       "\n",
       "    .dataframe tbody tr th {\n",
       "        vertical-align: top;\n",
       "    }\n",
       "\n",
       "    .dataframe thead th {\n",
       "        text-align: right;\n",
       "    }\n",
       "</style>\n",
       "<table border=\"1\" class=\"dataframe\">\n",
       "  <thead>\n",
       "    <tr style=\"text-align: right;\">\n",
       "      <th></th>\n",
       "      <th>overall</th>\n",
       "      <th>Summary</th>\n",
       "      <th>reviewText</th>\n",
       "      <th>predicted_label</th>\n",
       "    </tr>\n",
       "  </thead>\n",
       "  <tbody>\n",
       "    <tr>\n",
       "      <th>0</th>\n",
       "      <td>5</td>\n",
       "      <td>cute function</td>\n",
       "      <td>decent batteri pack charg discharg sever time ...</td>\n",
       "      <td>OR</td>\n",
       "    </tr>\n",
       "    <tr>\n",
       "      <th>1</th>\n",
       "      <td>5</td>\n",
       "      <td>excel charger good 3rd</td>\n",
       "      <td>3rd iniu power bank get 1st bought one son rec...</td>\n",
       "      <td>OR</td>\n",
       "    </tr>\n",
       "  </tbody>\n",
       "</table>\n",
       "</div>"
      ],
      "text/plain": [
       "  overall                 Summary  \\\n",
       "0       5           cute function   \n",
       "1       5  excel charger good 3rd   \n",
       "\n",
       "                                          reviewText predicted_label  \n",
       "0  decent batteri pack charg discharg sever time ...              OR  \n",
       "1  3rd iniu power bank get 1st bought one son rec...              OR  "
      ]
     },
     "execution_count": 21,
     "metadata": {},
     "output_type": "execute_result"
    }
   ],
   "source": [
    "# Preprocess the test samples\n",
    "test_samples = [\n",
    "    {'overall': '5', 'Summary': ' Cute but functional', 'reviewText': 'It is a decent battery pack, I have charged and discharged it several times while testing it and it states 10,000 mAh and I got pretty close to that, averaging 9750 mAh in my tests. And I am not sure if that display is a paw or the Grateful dead bear. But each section indicated 20% power. Now the light on it is well lets just say it\"s not something you would want to have to use long term, it\"s not really bright but it will do in a pinch. They charging port is a USB-C so that was a little different as to all my other battery banks use the older USB-Micro charging cable. Not a big deal I just had to go back into the house and get the correct cable. Now they did provide a USB-C cable in the box I just forgot to bring it outside with me. So I charged this using a small 21 watt solar panel and it took the better part of a full day to charge but again that was expected, I didn\"t move the panel to catch the sun at all, just left it outside while I was at work, and unlike some other power banks that if a cloud passes you have to unplug the cord to get it to charge again this was able to accept the fluctuation in power and adapt to it and it started to recharge about 30 seconds after the cloud passed so I don\"t have to be there to babysit it. That is a huge thing for me as to I charge most of my power banks from solar when I am off grid and if I am away from the campsite and a cloud goes by I don\"t want the power bank to sit there till I get back and not charge. Now I tested this with my backpack, I took a short hike and the solar panel was hanging on the back of my pack so it was in and out of the sun. it did charge so that is a plus as well. So yes I would buy this again and I plan on looking to see if they have a larger capacity one'},\n",
    "    {'overall': '5', 'Summary': 'Excellent charger (so good this is my 3rd)', 'reviewText': \"This is my 3rd INIU power bank because after getting my 1st, I bought one for my son but it was recently stolen. Therefore, I bought myself a new one (my 3rd) at a great price for an upcoming trip so he can have my older one. My original power bank worked great and provided multiple charges for my phone and other small devices and its own battery would recharge relatively quickly. I’ve also used it to charge my computer at times and it works great! After over 2-2.5 years of regular use, I’ve noticed that it takes longer to fully charge up and does provide as many charges but again that’s after 2+ years of regular use. The USB-As are becoming obsolete but I still have plenty of cords so their still useful. It’s also got a paw print that lights up to let you know the battery level and an LED light that’s useful at times. I just shove a couple of cords in the bag with the charger and I’m ready to go. Basically, this was a great purchase and when it was stolen, I didn’t have to think about whether to replace it with the same thing.\"}\n",
    "]\n",
    "\n",
    "# Convert the test samples to DataFrame\n",
    "test_df = pd.DataFrame(test_samples)\n",
    "\n",
    "# Convert columns to string type\n",
    "test_df['overall'] = test_df['overall'].astype(str)\n",
    "test_df['Summary'] = test_df['Summary'].astype(str)\n",
    "test_df['reviewText'] = test_df['reviewText'].astype(str)\n",
    "\n",
    "# Preprocess text data\n",
    "test_df['reviewText'] = test_df['reviewText'].apply(preprocess_text)\n",
    "test_df['Summary'] = test_df['Summary'].apply(preprocess_text)\n",
    "\n",
    "# Combine features\n",
    "test_df['features'] = test_df['reviewText'] + ' ' + test_df['overall'] + ' ' + test_df['Summary']\n",
    "\n",
    "# Vectorize the test data\n",
    "X_test = vectorizer.transform(test_df['features'])\n",
    "\n",
    "# Make predictions\n",
    "predicted_labels = naive_bayes_classifier.predict(X_test)\n",
    "\n",
    "# Display the test samples with predicted labels\n",
    "test_df['predicted_label'] = predicted_labels\n",
    "test_df[['overall', 'Summary', 'reviewText', 'predicted_label']]\n"
   ]
  }
 ],
 "metadata": {
  "kernelspec": {
   "display_name": "Python 3",
   "language": "python",
   "name": "python3"
  },
  "language_info": {
   "codemirror_mode": {
    "name": "ipython",
    "version": 3
   },
   "file_extension": ".py",
   "mimetype": "text/x-python",
   "name": "python",
   "nbconvert_exporter": "python",
   "pygments_lexer": "ipython3",
   "version": "3.11.2"
  }
 },
 "nbformat": 4,
 "nbformat_minor": 2
}
